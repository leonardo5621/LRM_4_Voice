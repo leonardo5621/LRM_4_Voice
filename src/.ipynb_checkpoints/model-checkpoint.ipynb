{
 "cells": [
  {
   "cell_type": "code",
   "execution_count": 1,
   "metadata": {},
   "outputs": [],
   "source": [
    "import Speaker_Verification.Training_Verification as GND\n",
    "import Speaker_Verification.format_to_wav as fileConvert\n",
    "import pandas as pd\n",
    "import numpy as np\n",
    "from scipy.io import wavfile\n",
    "import soundfile as sf\n",
    "import python_speech_features\n",
    "import librosa"
   ]
  },
  {
   "cell_type": "code",
   "execution_count": 10,
   "metadata": {},
   "outputs": [
    {
     "name": "stdout",
     "output_type": "stream",
     "text": [
      "Features Extracted\n",
      "Model Trained\n",
      "Model File Created\n"
     ]
    },
    {
     "data": {
      "text/plain": [
       "-254691.22601288947"
      ]
     },
     "execution_count": 10,
     "metadata": {},
     "output_type": "execute_result"
    }
   ],
   "source": [
    "GND.Train_Model('LibriSpeech/devclean/leo/train','leo',N_Components=125,Aformat='flac')"
   ]
  },
  {
   "cell_type": "code",
   "execution_count": 7,
   "metadata": {},
   "outputs": [],
   "source": [
    "import soundfile as sf\n",
    "import sounddevice as sd\n",
    "import os\n",
    "import matplotlib.pyplot as plt\n",
    "%matplotlib inline"
   ]
  },
  {
   "cell_type": "code",
   "execution_count": 8,
   "metadata": {},
   "outputs": [
    {
     "data": {
      "text/plain": [
       "[<matplotlib.lines.Line2D at 0x7f0edec05048>]"
      ]
     },
     "execution_count": 8,
     "metadata": {},
     "output_type": "execute_result"
    },
    {
     "data": {
      "image/png": "[encoded data removed]",
      "text/plain": [
       "<Figure size 432x288 with 1 Axes>"
      ]
     },
     "metadata": {
      "needs_background": "light"
     },
     "output_type": "display_data"
    }
   ],
   "source": [
    "plt.plot(X,BIC)"
   ]
  },
  {
   "cell_type": "code",
   "execution_count": 12,
   "metadata": {},
   "outputs": [
    {
     "data": {
      "text/plain": [
       "array([  5.21032639,   3.67748925,   6.22194311,   2.61965383,\n",
       "         1.97054758,   2.85002639,   2.72302499,   1.8452235 ,\n",
       "         5.17708172,   3.73152475,   2.83798613,   9.41031199,\n",
       "         2.91955623,   2.57903718,   2.25773655,   2.82940912,\n",
       "         3.4217423 ,   1.47214853,   8.57005492,   1.72735356,\n",
       "       229.01405325])"
      ]
     },
     "execution_count": 12,
     "metadata": {},
     "output_type": "execute_result"
    },
    {
     "data": {
      "image/png": "[encoded data removed]",
      "text/plain": [
       "<Figure size 432x288 with 1 Axes>"
      ]
     },
     "metadata": {
      "needs_background": "light"
     },
     "output_type": "display_data"
    }
   ],
   "source": [
    "GND.Ajust_Theta('leo','LibriSpeech/devclean/leo/train')"
   ]
  },
  {
   "cell_type": "code",
   "execution_count": 3,
   "metadata": {},
   "outputs": [],
   "source": [
    "\n",
    "n=pd.DataFrame({'Name':'Leo','Mean':0,'std dev':0},index=[0])\n",
    "n.to_csv('DistFrame.csv',index=False)"
   ]
  },
  {
   "cell_type": "code",
   "execution_count": 5,
   "metadata": {},
   "outputs": [],
   "source": [
    "import pandas as pd\n",
    "A=pd.read_csv('DistFrame.csv')\n",
    "A.sort_values('Name',inplace=True)\n",
    "A.drop_duplicates('Name',inplace=True,keep=False)\n",
    "A.to_csv('DistFrame.csv')"
   ]
  },
  {
   "cell_type": "code",
   "execution_count": 21,
   "metadata": {},
   "outputs": [
    {
     "data": {
      "text/plain": [
       "-45.24316053626407"
      ]
     },
     "execution_count": 21,
     "metadata": {},
     "output_type": "execute_result"
    }
   ],
   "source": [
    "M=A.loc[A['Name']=='174'].Mean\n",
    "S=A.loc[A['Name']=='174']['std dev']\n",
    "float(S+M)"
   ]
  },
  {
   "cell_type": "code",
   "execution_count": 7,
   "metadata": {},
   "outputs": [
    {
     "data": {
      "text/html": [
       "<div>\n",
       "<style scoped>\n",
       "    .dataframe tbody tr th:only-of-type {\n",
       "        vertical-align: middle;\n",
       "    }\n",
       "\n",
       "    .dataframe tbody tr th {\n",
       "        vertical-align: top;\n",
       "    }\n",
       "\n",
       "    .dataframe thead th {\n",
       "        text-align: right;\n",
       "    }\n",
       "</style>\n",
       "<table border=\"1\" class=\"dataframe\">\n",
       "  <thead>\n",
       "    <tr style=\"text-align: right;\">\n",
       "      <th></th>\n",
       "      <th>Mean</th>\n",
       "      <th>Name</th>\n",
       "      <th>std dev</th>\n",
       "    </tr>\n",
       "  </thead>\n",
       "  <tbody>\n",
       "    <tr>\n",
       "      <th>0</th>\n",
       "      <td>-46.054567</td>\n",
       "      <td>174</td>\n",
       "      <td>0.811407</td>\n",
       "    </tr>\n",
       "    <tr>\n",
       "      <th>1</th>\n",
       "      <td>-46.693867</td>\n",
       "      <td>777</td>\n",
       "      <td>0.559882</td>\n",
       "    </tr>\n",
       "    <tr>\n",
       "      <th>2</th>\n",
       "      <td>0.000000</td>\n",
       "      <td>Leo</td>\n",
       "      <td>0.000000</td>\n",
       "    </tr>\n",
       "    <tr>\n",
       "      <th>3</th>\n",
       "      <td>-45.997464</td>\n",
       "      <td>forge3</td>\n",
       "      <td>0.762974</td>\n",
       "    </tr>\n",
       "    <tr>\n",
       "      <th>4</th>\n",
       "      <td>-47.454759</td>\n",
       "      <td>652</td>\n",
       "      <td>0.534747</td>\n",
       "    </tr>\n",
       "    <tr>\n",
       "      <th>5</th>\n",
       "      <td>-46.983972</td>\n",
       "      <td>422</td>\n",
       "      <td>0.519960</td>\n",
       "    </tr>\n",
       "    <tr>\n",
       "      <th>6</th>\n",
       "      <td>-47.971055</td>\n",
       "      <td>1272</td>\n",
       "      <td>0.652774</td>\n",
       "    </tr>\n",
       "    <tr>\n",
       "      <th>7</th>\n",
       "      <td>-47.782624</td>\n",
       "      <td>1988</td>\n",
       "      <td>0.833494</td>\n",
       "    </tr>\n",
       "    <tr>\n",
       "      <th>8</th>\n",
       "      <td>-46.353524</td>\n",
       "      <td>1462</td>\n",
       "      <td>0.783027</td>\n",
       "    </tr>\n",
       "    <tr>\n",
       "      <th>9</th>\n",
       "      <td>-47.723382</td>\n",
       "      <td>1673</td>\n",
       "      <td>0.435408</td>\n",
       "    </tr>\n",
       "    <tr>\n",
       "      <th>10</th>\n",
       "      <td>-45.702077</td>\n",
       "      <td>1919</td>\n",
       "      <td>0.687407</td>\n",
       "    </tr>\n",
       "    <tr>\n",
       "      <th>11</th>\n",
       "      <td>-41.496895</td>\n",
       "      <td>leo</td>\n",
       "      <td>0.471151</td>\n",
       "    </tr>\n",
       "  </tbody>\n",
       "</table>\n",
       "</div>"
      ],
      "text/plain": [
       "         Mean    Name   std dev\n",
       "0  -46.054567     174  0.811407\n",
       "1  -46.693867     777  0.559882\n",
       "2    0.000000     Leo  0.000000\n",
       "3  -45.997464  forge3  0.762974\n",
       "4  -47.454759     652  0.534747\n",
       "5  -46.983972     422  0.519960\n",
       "6  -47.971055    1272  0.652774\n",
       "7  -47.782624    1988  0.833494\n",
       "8  -46.353524    1462  0.783027\n",
       "9  -47.723382    1673  0.435408\n",
       "10 -45.702077    1919  0.687407\n",
       "11 -41.496895     leo  0.471151"
      ]
     },
     "execution_count": 7,
     "metadata": {},
     "output_type": "execute_result"
    }
   ],
   "source": [
    "A=pd.read_csv('DistFrame.csv')\n",
    "A.drop('Unnamed: 0',axis=1,inplace=True)\n",
    "A.to_csv('DistFrame.csv',index=False)"
   ]
  },
  {
   "cell_type": "code",
   "execution_count": 5,
   "metadata": {},
   "outputs": [
    {
     "data": {
      "text/html": [
       "<div>\n",
       "<style scoped>\n",
       "    .dataframe tbody tr th:only-of-type {\n",
       "        vertical-align: middle;\n",
       "    }\n",
       "\n",
       "    .dataframe tbody tr th {\n",
       "        vertical-align: top;\n",
       "    }\n",
       "\n",
       "    .dataframe thead th {\n",
       "        text-align: right;\n",
       "    }\n",
       "</style>\n",
       "<table border=\"1\" class=\"dataframe\">\n",
       "  <thead>\n",
       "    <tr style=\"text-align: right;\">\n",
       "      <th></th>\n",
       "      <th>Mean</th>\n",
       "      <th>Name</th>\n",
       "      <th>Unnamed: 0</th>\n",
       "      <th>std dev</th>\n",
       "    </tr>\n",
       "  </thead>\n",
       "  <tbody>\n",
       "    <tr>\n",
       "      <th>0</th>\n",
       "      <td>3.000000</td>\n",
       "      <td>174</td>\n",
       "      <td>6.0</td>\n",
       "      <td>0.811407</td>\n",
       "    </tr>\n",
       "    <tr>\n",
       "      <th>1</th>\n",
       "      <td>-46.693867</td>\n",
       "      <td>777</td>\n",
       "      <td>1.0</td>\n",
       "      <td>0.559882</td>\n",
       "    </tr>\n",
       "    <tr>\n",
       "      <th>2</th>\n",
       "      <td>0.000000</td>\n",
       "      <td>Leo</td>\n",
       "      <td>0.0</td>\n",
       "      <td>0.000000</td>\n",
       "    </tr>\n",
       "    <tr>\n",
       "      <th>3</th>\n",
       "      <td>-45.997464</td>\n",
       "      <td>forge3</td>\n",
       "      <td>10.0</td>\n",
       "      <td>0.762974</td>\n",
       "    </tr>\n",
       "    <tr>\n",
       "      <th>4</th>\n",
       "      <td>-47.454759</td>\n",
       "      <td>652</td>\n",
       "      <td>NaN</td>\n",
       "      <td>0.534747</td>\n",
       "    </tr>\n",
       "    <tr>\n",
       "      <th>5</th>\n",
       "      <td>-46.983972</td>\n",
       "      <td>422</td>\n",
       "      <td>NaN</td>\n",
       "      <td>0.519960</td>\n",
       "    </tr>\n",
       "  </tbody>\n",
       "</table>\n",
       "</div>"
      ],
      "text/plain": [
       "        Mean    Name  Unnamed: 0   std dev\n",
       "0   3.000000     174         6.0  0.811407\n",
       "1 -46.693867     777         1.0  0.559882\n",
       "2   0.000000     Leo         0.0  0.000000\n",
       "3 -45.997464  forge3        10.0  0.762974\n",
       "4 -47.454759     652         NaN  0.534747\n",
       "5 -46.983972     422         NaN  0.519960"
      ]
     },
     "execution_count": 5,
     "metadata": {},
     "output_type": "execute_result"
    }
   ],
   "source": [
    "A.loc[A.loc[A['Name']=='174'].index[0],'Mean']=3\n",
    "A"
   ]
  },
  {
   "cell_type": "code",
   "execution_count": 6,
   "metadata": {},
   "outputs": [
    {
     "data": {
      "text/html": [
       "<div>\n",
       "<style scoped>\n",
       "    .dataframe tbody tr th:only-of-type {\n",
       "        vertical-align: middle;\n",
       "    }\n",
       "\n",
       "    .dataframe tbody tr th {\n",
       "        vertical-align: top;\n",
       "    }\n",
       "\n",
       "    .dataframe thead th {\n",
       "        text-align: right;\n",
       "    }\n",
       "</style>\n",
       "<table border=\"1\" class=\"dataframe\">\n",
       "  <thead>\n",
       "    <tr style=\"text-align: right;\">\n",
       "      <th></th>\n",
       "      <th>Mean</th>\n",
       "      <th>Name</th>\n",
       "      <th>Unnamed: 0</th>\n",
       "      <th>std dev</th>\n",
       "    </tr>\n",
       "  </thead>\n",
       "  <tbody>\n",
       "    <tr>\n",
       "      <th>0</th>\n",
       "      <td>3.000000</td>\n",
       "      <td>174</td>\n",
       "      <td>6.0</td>\n",
       "      <td>0.811407</td>\n",
       "    </tr>\n",
       "    <tr>\n",
       "      <th>1</th>\n",
       "      <td>-46.693867</td>\n",
       "      <td>777</td>\n",
       "      <td>1.0</td>\n",
       "      <td>0.559882</td>\n",
       "    </tr>\n",
       "    <tr>\n",
       "      <th>2</th>\n",
       "      <td>0.000000</td>\n",
       "      <td>Leo</td>\n",
       "      <td>0.0</td>\n",
       "      <td>0.000000</td>\n",
       "    </tr>\n",
       "    <tr>\n",
       "      <th>3</th>\n",
       "      <td>-45.997464</td>\n",
       "      <td>forge3</td>\n",
       "      <td>10.0</td>\n",
       "      <td>0.762974</td>\n",
       "    </tr>\n",
       "    <tr>\n",
       "      <th>4</th>\n",
       "      <td>-47.454759</td>\n",
       "      <td>652</td>\n",
       "      <td>NaN</td>\n",
       "      <td>0.534747</td>\n",
       "    </tr>\n",
       "    <tr>\n",
       "      <th>5</th>\n",
       "      <td>-46.983972</td>\n",
       "      <td>422</td>\n",
       "      <td>NaN</td>\n",
       "      <td>0.519960</td>\n",
       "    </tr>\n",
       "    <tr>\n",
       "      <th>2</th>\n",
       "      <td>5.000000</td>\n",
       "      <td>174</td>\n",
       "      <td>NaN</td>\n",
       "      <td>4.000000</td>\n",
       "    </tr>\n",
       "  </tbody>\n",
       "</table>\n",
       "</div>"
      ],
      "text/plain": [
       "        Mean    Name  Unnamed: 0   std dev\n",
       "0   3.000000     174         6.0  0.811407\n",
       "1 -46.693867     777         1.0  0.559882\n",
       "2   0.000000     Leo         0.0  0.000000\n",
       "3 -45.997464  forge3        10.0  0.762974\n",
       "4 -47.454759     652         NaN  0.534747\n",
       "5 -46.983972     422         NaN  0.519960\n",
       "2   5.000000     174         NaN  4.000000"
      ]
     },
     "execution_count": 6,
     "metadata": {},
     "output_type": "execute_result"
    }
   ],
   "source": [
    "NewDist=pd.DataFrame({'Name':'174','Mean':5,'std dev':4},index=[2])\n",
    "B=pd.concat([A,NewDist],sort='False')\n",
    "B"
   ]
  },
  {
   "cell_type": "code",
   "execution_count": 7,
   "metadata": {},
   "outputs": [
    {
     "data": {
      "text/html": [
       "<div>\n",
       "<style scoped>\n",
       "    .dataframe tbody tr th:only-of-type {\n",
       "        vertical-align: middle;\n",
       "    }\n",
       "\n",
       "    .dataframe tbody tr th {\n",
       "        vertical-align: top;\n",
       "    }\n",
       "\n",
       "    .dataframe thead th {\n",
       "        text-align: right;\n",
       "    }\n",
       "</style>\n",
       "<table border=\"1\" class=\"dataframe\">\n",
       "  <thead>\n",
       "    <tr style=\"text-align: right;\">\n",
       "      <th></th>\n",
       "      <th>Mean</th>\n",
       "      <th>Name</th>\n",
       "      <th>std dev</th>\n",
       "    </tr>\n",
       "  </thead>\n",
       "  <tbody>\n",
       "    <tr>\n",
       "      <th>0</th>\n",
       "      <td>3.000000</td>\n",
       "      <td>174</td>\n",
       "      <td>0.811407</td>\n",
       "    </tr>\n",
       "    <tr>\n",
       "      <th>1</th>\n",
       "      <td>-46.693867</td>\n",
       "      <td>777</td>\n",
       "      <td>0.559882</td>\n",
       "    </tr>\n",
       "    <tr>\n",
       "      <th>2</th>\n",
       "      <td>0.000000</td>\n",
       "      <td>Leo</td>\n",
       "      <td>0.000000</td>\n",
       "    </tr>\n",
       "    <tr>\n",
       "      <th>3</th>\n",
       "      <td>-45.997464</td>\n",
       "      <td>forge3</td>\n",
       "      <td>0.762974</td>\n",
       "    </tr>\n",
       "    <tr>\n",
       "      <th>4</th>\n",
       "      <td>-47.454759</td>\n",
       "      <td>652</td>\n",
       "      <td>0.534747</td>\n",
       "    </tr>\n",
       "    <tr>\n",
       "      <th>5</th>\n",
       "      <td>-46.983972</td>\n",
       "      <td>422</td>\n",
       "      <td>0.519960</td>\n",
       "    </tr>\n",
       "    <tr>\n",
       "      <th>2</th>\n",
       "      <td>5.000000</td>\n",
       "      <td>174</td>\n",
       "      <td>4.000000</td>\n",
       "    </tr>\n",
       "  </tbody>\n",
       "</table>\n",
       "</div>"
      ],
      "text/plain": [
       "        Mean    Name   std dev\n",
       "0   3.000000     174  0.811407\n",
       "1 -46.693867     777  0.559882\n",
       "2   0.000000     Leo  0.000000\n",
       "3 -45.997464  forge3  0.762974\n",
       "4 -47.454759     652  0.534747\n",
       "5 -46.983972     422  0.519960\n",
       "2   5.000000     174  4.000000"
      ]
     },
     "execution_count": 7,
     "metadata": {},
     "output_type": "execute_result"
    }
   ],
   "source": [
    "B.drop_duplicates('Name',keep='last')\n",
    "B.drop('Unnamed: 0',axis=1)"
   ]
  },
  {
   "cell_type": "code",
   "execution_count": 28,
   "metadata": {},
   "outputs": [],
   "source": [
    "signal,sr=sf.read('noise.flac')\n",
    "sr=44100\n",
    "duration=5\n",
    "record=sd.rec(int(sr*duration),samplerate=sr,channels=1,dtype='float32')\n"
   ]
  },
  {
   "cell_type": "code",
   "execution_count": 30,
   "metadata": {},
   "outputs": [],
   "source": [
    "first100msec=signal[:int(sr*0.1)]\n",
    "noiseMean=np.mean(first100msec)\n",
    "noiseStd=np.std(first100msec)"
   ]
  },
  {
   "cell_type": "code",
   "execution_count": 31,
   "metadata": {},
   "outputs": [],
   "source": [
    "NormalizedSignal=np.abs(record-noiseMean)/noiseStd"
   ]
  },
  {
   "cell_type": "code",
   "execution_count": 32,
   "metadata": {},
   "outputs": [
    {
     "data": {
      "text/plain": [
       "array([82102])"
      ]
     },
     "execution_count": 32,
     "metadata": {},
     "output_type": "execute_result"
    }
   ],
   "source": [
    "B=NormalizedSignal>3\n",
    "#Bc1=B[:,0]\n",
    "#sum(Bc1==Bc2)\n",
    "sum(B)"
   ]
  },
  {
   "cell_type": "code",
   "execution_count": 33,
   "metadata": {
    "scrolled": true
   },
   "outputs": [
    {
     "data": {
      "text/plain": [
       "array([False, False, False, False, False, False, False, False, False,\n",
       "       False, False, False, False, False, False, False, False, False,\n",
       "       False, False, False, False, False, False, False, False, False,\n",
       "       False, False, False, False, False, False, False, False, False,\n",
       "       False, False, False, False, False, False, False, False, False,\n",
       "       False, False, False, False, False, False, False, False, False,\n",
       "       False, False, False, False, False, False, False, False, False,\n",
       "       False, False, False, False, False, False, False, False, False,\n",
       "       False, False, False, False, False, False, False, False, False,\n",
       "       False, False, False, False, False, False, False, False, False,\n",
       "       False, False, False, False, False, False, False, False, False,\n",
       "       False, False, False, False, False, False, False, False, False,\n",
       "       False, False, False, False, False, False, False, False, False,\n",
       "       False, False, False, False, False, False, False, False, False,\n",
       "       False, False, False, False, False, False, False, False, False,\n",
       "       False, False, False, False, False, False, False, False, False,\n",
       "       False, False, False, False, False, False, False, False, False,\n",
       "       False, False, False, False, False, False, False, False, False,\n",
       "       False, False, False, False, False, False, False, False, False,\n",
       "       False, False, False, False, False, False, False, False, False,\n",
       "       False, False, False, False, False, False, False, False, False,\n",
       "       False, False, False, False, False, False, False, False, False,\n",
       "       False, False, False, False, False, False, False, False, False,\n",
       "       False, False, False, False, False, False, False, False, False,\n",
       "       False, False, False, False, False, False, False, False, False,\n",
       "       False, False, False, False, False, False, False, False, False,\n",
       "       False, False, False, False, False, False, False, False, False,\n",
       "       False, False, False, False, False, False, False, False, False,\n",
       "       False, False, False, False, False, False, False, False, False,\n",
       "       False, False, False, False, False, False, False, False, False,\n",
       "       False, False, False, False, False, False, False, False, False,\n",
       "       False, False, False, False, False, False, False, False, False,\n",
       "       False, False, False, False, False, False, False, False, False,\n",
       "       False, False, False, False, False, False, False, False, False,\n",
       "       False, False, False, False, False, False, False, False, False,\n",
       "       False, False, False, False, False, False, False, False, False,\n",
       "       False, False, False, False, False, False, False, False, False,\n",
       "       False, False, False, False, False, False, False, False, False,\n",
       "       False, False, False, False, False, False, False, False, False,\n",
       "       False, False, False, False, False, False, False, False, False,\n",
       "       False, False, False, False, False, False, False, False, False,\n",
       "       False, False, False, False, False, False, False, False, False,\n",
       "       False, False, False, False, False, False, False, False, False,\n",
       "       False, False, False, False, False, False, False, False, False,\n",
       "       False, False, False, False, False, False, False, False, False,\n",
       "       False, False, False, False, False, False, False, False, False,\n",
       "       False, False, False, False, False, False, False, False, False,\n",
       "       False, False, False, False, False, False, False, False, False,\n",
       "       False, False, False, False, False, False, False, False, False,\n",
       "       False, False, False, False, False, False, False, False, False,\n",
       "       False, False, False, False, False, False, False, False, False,\n",
       "       False, False, False, False, False, False, False, False, False,\n",
       "       False, False, False, False, False, False, False, False, False,\n",
       "       False, False, False, False, False, False, False, False, False,\n",
       "       False, False, False, False, False, False, False, False, False,\n",
       "       False, False, False, False, False])"
      ]
     },
     "execution_count": 33,
     "metadata": {},
     "output_type": "execute_result"
    }
   ],
   "source": [
    "L=len(B)\n",
    "fLen=int(sr*0.01)\n",
    "numF=int(np.ceil(L/fLen))\n",
    "padLen=np.abs(L-(numF*fLen))\n",
    "BPadded=np.append(B,np.zeros(padLen))\n",
    "\n",
    "FramedB=np.reshape(BPadded.astype(int),(fLen,numF))\n",
    "SummedArrays=np.sum(FramedB,axis=0)\n",
    "SummedArrays>=fLen/2"
   ]
  },
  {
   "cell_type": "code",
   "execution_count": 3,
   "metadata": {},
   "outputs": [],
   "source": [
    "nArray=np.array(['leo',44100,'float32','1','flac'])\n",
    "N=pd.DataFrame(np.reshape(nArray,(1,5)),index=[0],columns=['Name','SamplingRate','dtype','channels','AudioFormat'])"
   ]
  },
  {
   "cell_type": "code",
   "execution_count": 11,
   "metadata": {},
   "outputs": [],
   "source": [
    "import os\n",
    "import pandas as pd\n",
    "import numpy as np"
   ]
  },
  {
   "cell_type": "code",
   "execution_count": 14,
   "metadata": {},
   "outputs": [
    {
     "data": {
      "text/html": [
       "<div>\n",
       "<style scoped>\n",
       "    .dataframe tbody tr th:only-of-type {\n",
       "        vertical-align: middle;\n",
       "    }\n",
       "\n",
       "    .dataframe tbody tr th {\n",
       "        vertical-align: top;\n",
       "    }\n",
       "\n",
       "    .dataframe thead th {\n",
       "        text-align: right;\n",
       "    }\n",
       "</style>\n",
       "<table border=\"1\" class=\"dataframe\">\n",
       "  <thead>\n",
       "    <tr style=\"text-align: right;\">\n",
       "      <th></th>\n",
       "      <th>1272</th>\n",
       "      <th>777</th>\n",
       "      <th>251</th>\n",
       "      <th>174</th>\n",
       "      <th>1988</th>\n",
       "      <th>forge2</th>\n",
       "      <th>422</th>\n",
       "      <th>leo</th>\n",
       "      <th>UBMFileN3</th>\n",
       "      <th>leooz</th>\n",
       "      <th>UBMFile</th>\n",
       "      <th>1462</th>\n",
       "      <th>1673</th>\n",
       "      <th>1919</th>\n",
       "      <th>652</th>\n",
       "      <th>forge3</th>\n",
       "    </tr>\n",
       "  </thead>\n",
       "  <tbody>\n",
       "    <tr>\n",
       "      <th>Tentativas Com Acesso Concedido</th>\n",
       "      <td>0.0</td>\n",
       "      <td>0.0</td>\n",
       "      <td>0.0</td>\n",
       "      <td>0.0</td>\n",
       "      <td>0.0</td>\n",
       "      <td>0.0</td>\n",
       "      <td>0.0</td>\n",
       "      <td>0.0</td>\n",
       "      <td>0.0</td>\n",
       "      <td>0.0</td>\n",
       "      <td>0.0</td>\n",
       "      <td>0.0</td>\n",
       "      <td>0.0</td>\n",
       "      <td>0.0</td>\n",
       "      <td>0.0</td>\n",
       "      <td>0.0</td>\n",
       "    </tr>\n",
       "    <tr>\n",
       "      <th>Tentativas Negadas</th>\n",
       "      <td>0.0</td>\n",
       "      <td>0.0</td>\n",
       "      <td>0.0</td>\n",
       "      <td>0.0</td>\n",
       "      <td>0.0</td>\n",
       "      <td>0.0</td>\n",
       "      <td>0.0</td>\n",
       "      <td>0.0</td>\n",
       "      <td>0.0</td>\n",
       "      <td>0.0</td>\n",
       "      <td>0.0</td>\n",
       "      <td>0.0</td>\n",
       "      <td>0.0</td>\n",
       "      <td>0.0</td>\n",
       "      <td>0.0</td>\n",
       "      <td>0.0</td>\n",
       "    </tr>\n",
       "    <tr>\n",
       "      <th>Total de Tentativas</th>\n",
       "      <td>0.0</td>\n",
       "      <td>0.0</td>\n",
       "      <td>0.0</td>\n",
       "      <td>0.0</td>\n",
       "      <td>0.0</td>\n",
       "      <td>0.0</td>\n",
       "      <td>0.0</td>\n",
       "      <td>0.0</td>\n",
       "      <td>0.0</td>\n",
       "      <td>0.0</td>\n",
       "      <td>0.0</td>\n",
       "      <td>0.0</td>\n",
       "      <td>0.0</td>\n",
       "      <td>0.0</td>\n",
       "      <td>0.0</td>\n",
       "      <td>0.0</td>\n",
       "    </tr>\n",
       "  </tbody>\n",
       "</table>\n",
       "</div>"
      ],
      "text/plain": [
       "                                 1272  777  251  174  1988  forge2  422  leo  \\\n",
       "Tentativas Com Acesso Concedido   0.0  0.0  0.0  0.0   0.0     0.0  0.0  0.0   \n",
       "Tentativas Negadas                0.0  0.0  0.0  0.0   0.0     0.0  0.0  0.0   \n",
       "Total de Tentativas               0.0  0.0  0.0  0.0   0.0     0.0  0.0  0.0   \n",
       "\n",
       "                                 UBMFileN3  leooz  UBMFile  1462  1673  1919  \\\n",
       "Tentativas Com Acesso Concedido        0.0    0.0      0.0   0.0   0.0   0.0   \n",
       "Tentativas Negadas                     0.0    0.0      0.0   0.0   0.0   0.0   \n",
       "Total de Tentativas                    0.0    0.0      0.0   0.0   0.0   0.0   \n",
       "\n",
       "                                 652  forge3  \n",
       "Tentativas Com Acesso Concedido  0.0     0.0  \n",
       "Tentativas Negadas               0.0     0.0  \n",
       "Total de Tentativas              0.0     0.0  "
      ]
     },
     "execution_count": 14,
     "metadata": {},
     "output_type": "execute_result"
    }
   ],
   "source": [
    "Users=os.listdir('AcusticModels/')\n",
    "L=len(Users)\n",
    "indexes=['Tentativas Com Acesso Concedido', 'Tentativas Negadas', 'Total de Tentativas']\n",
    "N=pd.DataFrame(np.zeros((3,L)),index=indexes,columns=Users)\n",
    "N"
   ]
  }
 ],
 "metadata": {
  "kernelspec": {
   "display_name": "Python 3",
   "language": "python",
   "name": "python3"
  },
  "language_info": {
   "codemirror_mode": {
    "name": "ipython",
    "version": 3
   },
   "file_extension": ".py",
   "mimetype": "text/x-python",
   "name": "python",
   "nbconvert_exporter": "python",
   "pygments_lexer": "ipython3",
   "version": "3.6.7"
  }
 },
 "nbformat": 4,
 "nbformat_minor": 2
}
